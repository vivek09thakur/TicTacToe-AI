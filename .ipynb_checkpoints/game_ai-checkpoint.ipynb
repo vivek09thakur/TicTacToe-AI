{
 "cells": [
  {
   "cell_type": "code",
   "execution_count": 1,
   "id": "1ce27d85-da9a-48a1-8d2c-fc07d0dabdf4",
   "metadata": {
    "tags": []
   },
   "outputs": [
    {
     "name": "stdout",
     "output_type": "stream",
     "text": [
      "\n",
      "New Game!\n",
      "----------------\n",
      "|   ||   ||   |\n",
      "----------------\n",
      "|   ||   ||   |\n",
      "----------------\n",
      "|   ||   ||   |\n",
      "----------------\n"
     ]
    },
    {
     "name": "stdin",
     "output_type": "stream",
     "text": [
      "Choose which player - X or O :  X\n",
      "your turn! Choose where to place (1 to 9):  1\n"
     ]
    },
    {
     "name": "stdout",
     "output_type": "stream",
     "text": [
      "----------------\n",
      "| X ||   ||   |\n",
      "----------------\n",
      "|   ||   ||   |\n",
      "----------------\n",
      "|   ||   ||   |\n",
      "----------------\n",
      "AI plays move: 5\n",
      "----------------\n",
      "| X ||   ||   |\n",
      "----------------\n",
      "|   || O ||   |\n",
      "----------------\n",
      "|   ||   ||   |\n",
      "----------------\n"
     ]
    },
    {
     "name": "stdin",
     "output_type": "stream",
     "text": [
      "your turn! Choose where to place (1 to 9):  2\n"
     ]
    },
    {
     "name": "stdout",
     "output_type": "stream",
     "text": [
      "----------------\n",
      "| X || X ||   |\n",
      "----------------\n",
      "|   || O ||   |\n",
      "----------------\n",
      "|   ||   ||   |\n",
      "----------------\n",
      "AI plays move: 3\n",
      "----------------\n",
      "| X || X || O |\n",
      "----------------\n",
      "|   || O ||   |\n",
      "----------------\n",
      "|   ||   ||   |\n",
      "----------------\n"
     ]
    },
    {
     "name": "stdin",
     "output_type": "stream",
     "text": [
      "your turn! Choose where to place (1 to 9):  7\n"
     ]
    },
    {
     "name": "stdout",
     "output_type": "stream",
     "text": [
      "----------------\n",
      "| X || X || O |\n",
      "----------------\n",
      "|   || O ||   |\n",
      "----------------\n",
      "| X ||   ||   |\n",
      "----------------\n",
      "AI plays move: 4\n",
      "----------------\n",
      "| X || X || O |\n",
      "----------------\n",
      "| O || O ||   |\n",
      "----------------\n",
      "| X ||   ||   |\n",
      "----------------\n"
     ]
    },
    {
     "name": "stdin",
     "output_type": "stream",
     "text": [
      "your turn! Choose where to place (1 to 9):  6\n"
     ]
    },
    {
     "name": "stdout",
     "output_type": "stream",
     "text": [
      "----------------\n",
      "| X || X || O |\n",
      "----------------\n",
      "| O || O || X |\n",
      "----------------\n",
      "| X ||   ||   |\n",
      "----------------\n",
      "AI plays move: 8\n",
      "----------------\n",
      "| X || X || O |\n",
      "----------------\n",
      "| O || O || X |\n",
      "----------------\n",
      "| X || O ||   |\n",
      "----------------\n"
     ]
    },
    {
     "name": "stdin",
     "output_type": "stream",
     "text": [
      "your turn! Choose where to place (1 to 9):  9\n"
     ]
    },
    {
     "name": "stdout",
     "output_type": "stream",
     "text": [
      "----------------\n",
      "| X || X || O |\n",
      "----------------\n",
      "| O || O || X |\n",
      "----------------\n",
      "| X || O || X |\n",
      "----------------\n",
      "Draw!\n"
     ]
    },
    {
     "name": "stdin",
     "output_type": "stream",
     "text": [
      "Wanna try again?(Y/N) :  Y\n"
     ]
    },
    {
     "name": "stdout",
     "output_type": "stream",
     "text": [
      "\n",
      "New Game!\n",
      "----------------\n",
      "|   ||   ||   |\n",
      "----------------\n",
      "|   ||   ||   |\n",
      "----------------\n",
      "|   ||   ||   |\n",
      "----------------\n"
     ]
    },
    {
     "name": "stdin",
     "output_type": "stream",
     "text": [
      "Choose which player - X or O :  X\n",
      "your turn! Choose where to place (1 to 9):  1\n"
     ]
    },
    {
     "name": "stdout",
     "output_type": "stream",
     "text": [
      "----------------\n",
      "| X ||   ||   |\n",
      "----------------\n",
      "|   ||   ||   |\n",
      "----------------\n",
      "|   ||   ||   |\n",
      "----------------\n",
      "AI plays move: 5\n",
      "----------------\n",
      "| X ||   ||   |\n",
      "----------------\n",
      "|   || O ||   |\n",
      "----------------\n",
      "|   ||   ||   |\n",
      "----------------\n"
     ]
    },
    {
     "name": "stdin",
     "output_type": "stream",
     "text": [
      "your turn! Choose where to place (1 to 9):  4\n"
     ]
    },
    {
     "name": "stdout",
     "output_type": "stream",
     "text": [
      "----------------\n",
      "| X ||   ||   |\n",
      "----------------\n",
      "| X || O ||   |\n",
      "----------------\n",
      "|   ||   ||   |\n",
      "----------------\n",
      "AI plays move: 7\n",
      "----------------\n",
      "| X ||   ||   |\n",
      "----------------\n",
      "| X || O ||   |\n",
      "----------------\n",
      "| O ||   ||   |\n",
      "----------------\n"
     ]
    },
    {
     "name": "stdin",
     "output_type": "stream",
     "text": [
      "your turn! Choose where to place (1 to 9):  3\n"
     ]
    },
    {
     "name": "stdout",
     "output_type": "stream",
     "text": [
      "----------------\n",
      "| X ||   || X |\n",
      "----------------\n",
      "| X || O ||   |\n",
      "----------------\n",
      "| O ||   ||   |\n",
      "----------------\n",
      "AI plays move: 2\n",
      "----------------\n",
      "| X || O || X |\n",
      "----------------\n",
      "| X || O ||   |\n",
      "----------------\n",
      "| O ||   ||   |\n",
      "----------------\n"
     ]
    },
    {
     "name": "stdin",
     "output_type": "stream",
     "text": [
      "your turn! Choose where to place (1 to 9):  8\n"
     ]
    },
    {
     "name": "stdout",
     "output_type": "stream",
     "text": [
      "----------------\n",
      "| X || O || X |\n",
      "----------------\n",
      "| X || O ||   |\n",
      "----------------\n",
      "| O || X ||   |\n",
      "----------------\n",
      "AI plays move: 6\n",
      "----------------\n",
      "| X || O || X |\n",
      "----------------\n",
      "| X || O || O |\n",
      "----------------\n",
      "| O || X ||   |\n",
      "----------------\n"
     ]
    },
    {
     "name": "stdin",
     "output_type": "stream",
     "text": [
      "your turn! Choose where to place (1 to 9):  9\n"
     ]
    },
    {
     "name": "stdout",
     "output_type": "stream",
     "text": [
      "----------------\n",
      "| X || O || X |\n",
      "----------------\n",
      "| X || O || O |\n",
      "----------------\n",
      "| O || X || X |\n",
      "----------------\n",
      "Draw!\n"
     ]
    },
    {
     "name": "stdin",
     "output_type": "stream",
     "text": [
      "Wanna try again?(Y/N) :  N\n"
     ]
    },
    {
     "name": "stdout",
     "output_type": "stream",
     "text": [
      "Marrao tab!\n"
     ]
    }
   ],
   "source": [
    "from math import inf as infinity\n",
    "\n",
    "game_state = [[' ', ' ', ' '],\n",
    "              [' ', ' ', ' '],\n",
    "              [' ', ' ', ' ']]\n",
    "players = ['X', 'O']\n",
    "\n",
    "\n",
    "def play_move(state, player, block_num):\n",
    "    if state[int((block_num-1)/3)][(block_num-1) % 3] == ' ':\n",
    "        state[int((block_num-1)/3)][(block_num-1) % 3] = player\n",
    "    else:\n",
    "        block_num = int(input(\"Block is not empty, Choose again: \"))\n",
    "        play_move(state, player, block_num)\n",
    "\n",
    "\n",
    "def copy_game_state(state):\n",
    "    new_state = [[' ', ' ', ' '], [' ', ' ', ' '], [' ', ' ', ' ']]\n",
    "    for i in range(3):\n",
    "        for j in range(3):\n",
    "            new_state[i][j] = state[i][j]\n",
    "    return new_state\n",
    "\n",
    "\n",
    "def check_current_state(game_state):\n",
    "\n",
    "    if (game_state[0][0] == game_state[0][1] and game_state[0][1] == game_state[0][2] and game_state[0][0] != ' '):\n",
    "        return game_state[0][0], \"Done\"\n",
    "    if (game_state[1][0] == game_state[1][1] and game_state[1][1] == game_state[1][2] and game_state[1][0] != ' '):\n",
    "        return game_state[1][0], \"Done\"\n",
    "    if (game_state[2][0] == game_state[2][1] and game_state[2][1] == game_state[2][2] and game_state[2][0] != ' '):\n",
    "        return game_state[2][0], \"Done\"\n",
    "\n",
    "    if (game_state[0][0] == game_state[1][0] and game_state[1][0] == game_state[2][0] and game_state[0][0] != ' '):\n",
    "        return game_state[0][0], \"Done\"\n",
    "    if (game_state[0][1] == game_state[1][1] and game_state[1][1] == game_state[2][1] and game_state[0][1] != ' '):\n",
    "        return game_state[0][1], \"Done\"\n",
    "    if (game_state[0][2] == game_state[1][2] and game_state[1][2] == game_state[2][2] and game_state[0][2] != ' '):\n",
    "        return game_state[0][2], \"Done\"\n",
    "\n",
    "    if (game_state[0][0] == game_state[1][1] and game_state[1][1] == game_state[2][2] and game_state[0][0] != ' '):\n",
    "        return game_state[1][1], \"Done\"\n",
    "    if (game_state[2][0] == game_state[1][1] and game_state[1][1] == game_state[0][2] and game_state[2][0] != ' '):\n",
    "        return game_state[1][1], \"Done\"\n",
    "\n",
    "    # draw\n",
    "\n",
    "    draw_flag = 0\n",
    "    for i in range(3):\n",
    "        for j in range(3):\n",
    "            if game_state[i][j] == ' ':\n",
    "                draw_flag = 1\n",
    "    if draw_flag == 0:\n",
    "        return None, \"Draw\"\n",
    "\n",
    "    return None, \"Not Done\"\n",
    "\n",
    "\n",
    "def print_board(game_state):\n",
    "    print('----------------')\n",
    "    print('| ' + str(game_state[0][0]) + ' || ' +\n",
    "          str(game_state[0][1]) + ' || ' + str(game_state[0][2]) + ' |')\n",
    "    print('----------------')\n",
    "    print('| ' + str(game_state[1][0]) + ' || ' +\n",
    "          str(game_state[1][1]) + ' || ' + str(game_state[1][2]) + ' |')\n",
    "    print('----------------')\n",
    "    print('| ' + str(game_state[2][0]) + ' || ' +\n",
    "          str(game_state[2][1]) + ' || ' + str(game_state[2][2]) + ' |')\n",
    "    print('----------------')\n",
    "\n",
    "\n",
    "def getBestMove(state, player):\n",
    "    '''\n",
    "    Minimax Algorithm\n",
    "    '''\n",
    "    winner_loser, done = check_current_state(state)\n",
    "    if done == \"Done\" and winner_loser == 'O':  # If AI won\n",
    "        return (1, 0)\n",
    "    elif done == \"Done\" and winner_loser == 'X':  # If Human won\n",
    "        return (-1, 0)\n",
    "    elif done == \"Draw\":\n",
    "        return (0, 0)\n",
    "\n",
    "    moves = []\n",
    "    empty_cells = []\n",
    "    for i in range(3):\n",
    "        for j in range(3):\n",
    "            if state[i][j] == ' ':\n",
    "                empty_cells.append(i*3 + (j+1))\n",
    "\n",
    "    for empty_cell in empty_cells:\n",
    "        move = {}\n",
    "        move['index'] = empty_cell\n",
    "        new_state = copy_game_state(state)\n",
    "        play_move(new_state, player, empty_cell)\n",
    "\n",
    "        if player == 'O':    # If AI\n",
    "            result, _ = getBestMove(new_state, 'X')\n",
    "            move['score'] = result\n",
    "        else:\n",
    "            result, _ = getBestMove(new_state, 'O')\n",
    "            move['score'] = result\n",
    "\n",
    "        moves.append(move)\n",
    "\n",
    "    # Finding my best move\n",
    "    best_move = None\n",
    "    if player == 'O':\n",
    "        best = -infinity\n",
    "        for move in moves:\n",
    "            if move['score'] > best:\n",
    "                best = move['score']\n",
    "                best_move = move['index']\n",
    "    else:\n",
    "        best = infinity\n",
    "        for move in moves:\n",
    "            if move['score'] < best:\n",
    "                best = move['score']\n",
    "                best_move = move['index']\n",
    "\n",
    "    return (best, best_move)\n",
    "\n",
    "\n",
    "play_again = 'Y'\n",
    "while play_again == 'Y' or play_again == 'y':\n",
    "    game_state = [[' ', ' ', ' '],\n",
    "                  [' ', ' ', ' '],\n",
    "                  [' ', ' ', ' ']]\n",
    "    current_state = \"Not Done\"\n",
    "    print(\"\\nNew Game!\")\n",
    "    print_board(game_state)\n",
    "    player_choice = input(\"Choose which player - X or O : \")\n",
    "    winner = None\n",
    "\n",
    "    if player_choice == 'X' or player_choice == 'x':\n",
    "        current_player_idx = 0\n",
    "    else:\n",
    "        current_player_idx = 1\n",
    "\n",
    "    while current_state == \"Not Done\":\n",
    "        if current_player_idx == 0:  # Human's turn\n",
    "            block_choice = int(\n",
    "                input(\"your turn! Choose where to place (1 to 9): \"))\n",
    "            play_move(game_state, players[current_player_idx], block_choice)\n",
    "        else:   # AI's turn\n",
    "            _, block_choice = getBestMove(\n",
    "                game_state, players[current_player_idx])\n",
    "            play_move(game_state, players[current_player_idx], block_choice)\n",
    "            print(\"AI plays move: \" + str(block_choice))\n",
    "        print_board(game_state)\n",
    "        winner, current_state = check_current_state(game_state)\n",
    "        if winner is not None:\n",
    "            print(str(winner) + \" won!\")\n",
    "        else:\n",
    "            current_player_idx = (current_player_idx + 1) % 2\n",
    "\n",
    "        if current_state == \"Draw\":\n",
    "            print(\"Draw!\")\n",
    "\n",
    "    play_again = input('Wanna try again?(Y/N) : ')\n",
    "    if play_again == 'N':\n",
    "        print('Marrao tab!')"
   ]
  },
  {
   "cell_type": "code",
   "execution_count": null,
   "id": "e5a19e6c-9c01-430b-a111-04a946edfc03",
   "metadata": {},
   "outputs": [],
   "source": []
  }
 ],
 "metadata": {
  "kernelspec": {
   "display_name": "Python 3 (ipykernel)",
   "language": "python",
   "name": "python3"
  },
  "language_info": {
   "codemirror_mode": {
    "name": "ipython",
    "version": 3
   },
   "file_extension": ".py",
   "mimetype": "text/x-python",
   "name": "python",
   "nbconvert_exporter": "python",
   "pygments_lexer": "ipython3",
   "version": "3.10.0"
  }
 },
 "nbformat": 4,
 "nbformat_minor": 5
}
